{
 "cells": [
  {
   "cell_type": "code",
   "execution_count": 1,
   "metadata": {},
   "outputs": [],
   "source": [
    "import pandas as pd\n",
    "import numpy as np\n",
    "df= pd.read_csv(r'C:\\Users\\user\\Desktop\\Grad\\PY Modules\\Loan.csv')"
   ]
  },
  {
   "cell_type": "code",
   "execution_count": 2,
   "metadata": {},
   "outputs": [
    {
     "name": "stdout",
     "output_type": "stream",
     "text": [
      "Current shape of dataset : (1551, 12)\n"
     ]
    }
   ],
   "source": [
    "df[\"home_ownership\"] = df[\"home_ownership\"].map({\"MORTGAGE\":6,\"RENT\":5,\"OWN\":4,\"OTHER\":3,\"None\":2,\"ANY\":1})\n",
    "df[\"emp_length\"] = df[\"emp_length\"].replace({'years':'','year':'',' ':'','<':'','\\+':'','n/a':'0'}, regex = True)\n",
    "df[\"emp_length\"] = df[\"emp_length\"].replace('NaN', np.nan).fillna(0)\n",
    "print(\"Current shape of dataset :\",df.shape)"
   ]
  },
  {
   "cell_type": "code",
   "execution_count": 3,
   "metadata": {},
   "outputs": [],
   "source": [
    "data_with_loanstatus_sliced = df[(df['loan_status']==\"Fully Paid\") | (df['loan_status']==\"Charged Off\")]\n",
    "di = {\"Fully Paid\":0, \"Charged Off\":1}   #converting target variable to boolean\n",
    "Dataset_withBoolTarget= data_with_loanstatus_sliced.replace({\"loan_status\": di})\n",
    "Loan_target = Dataset_withBoolTarget.iloc [:, -1]"
   ]
  },
  {
   "cell_type": "code",
   "execution_count": 4,
   "metadata": {},
   "outputs": [],
   "source": [
    "from sklearn.preprocessing import StandardScaler\n",
    "scaler =  StandardScaler ()\n",
    "scaler.fit(df.drop('loan_status', axis =1))\n",
    "scaled_features = scaler.transform(df.drop('loan_status', axis =1))"
   ]
  },
  {
   "cell_type": "code",
   "execution_count": 11,
   "metadata": {},
   "outputs": [],
   "source": [
    "from sklearn.preprocessing import StandardScaler\n",
    "scaler =  StandardScaler ()\n",
    "scaler.fit(df.drop('loan_status', axis =1))\n",
    "scaled_features = scaler.transform(df.drop('loan_status', axis =1))\n",
    "\n",
    "df_feat = pd.DataFrame(scaled_features, columns = df.columns [:-1])\n"
   ]
  },
  {
   "cell_type": "code",
   "execution_count": 6,
   "metadata": {},
   "outputs": [
    {
     "data": {
      "text/plain": [
       "(      funded_amnt  emp_length  home_ownership  annual_inc  last_pymnt_amnt  \\\n",
       " 0       -1.340482    1.097291        0.828332   -0.546132        -0.672667   \n",
       " 1        1.069399    1.097291        0.828332   -0.323120        -0.556055   \n",
       " 2        0.532601    1.097291        0.828332   -0.367722         1.604008   \n",
       " 3        2.245786    1.097291        0.828332    0.680434        -0.570049   \n",
       " 4       -0.563838   -0.756052        0.828332    0.556283         0.779223   \n",
       " ...           ...         ...             ...         ...              ...   \n",
       " 1546    -1.066372   -1.550342        0.828332   -1.021593        -0.601938   \n",
       " 1547    -1.094925   -0.491289       -0.605533   -0.323120        -0.464642   \n",
       " 1548    -0.495311   -1.285579       -0.605533   -0.077807        -0.663780   \n",
       " 1549     2.245786    1.097291        0.828332    0.212109         2.725781   \n",
       " 1550     0.932344   -1.285579        0.828332   -0.824897        -0.619696   \n",
       " \n",
       "       mort_acc  int_rate  mo_sin_old_rev_tl_op  avg_cur_bal  \\\n",
       " 0    -0.424050  0.419966             -0.655456     0.318509   \n",
       " 1     1.063963 -0.037591              0.012379    -0.304220   \n",
       " 2     1.559967 -0.314414             -0.071100     0.938286   \n",
       " 3    -0.424050  0.616716             -1.083287     0.459941   \n",
       " 4     2.055971  2.355436              0.200208     0.712711   \n",
       " ...        ...       ...                   ...          ...   \n",
       " 1546  1.063963 -0.037591             -0.655456    -0.686953   \n",
       " 1547  2.055971  0.827193              0.179338    -0.804254   \n",
       " 1548 -0.920054 -1.563547             -0.686760    -0.354411   \n",
       " 1549  2.055971  0.616716             -0.039795     0.139094   \n",
       " 1550 -0.920054  2.133521             -0.749370    -0.543705   \n",
       " \n",
       "       acc_open_past_24mths  num_sats  \n",
       " 0                -0.286970 -0.937108  \n",
       " 1                -0.286970  1.723598  \n",
       " 2                 0.326524 -1.114489  \n",
       " 3                -0.900464  0.127174  \n",
       " 4                 1.553513 -0.050206  \n",
       " ...                    ...       ...  \n",
       " 1546              0.633272 -0.937108  \n",
       " 1547              1.553513  0.836696  \n",
       " 1548             -1.513958 -0.937108  \n",
       " 1549              0.019777  0.127174  \n",
       " 1550             -1.207211 -0.227587  \n",
       " \n",
       " [1551 rows x 11 columns], 0       0\n",
       " 1       0\n",
       " 2       0\n",
       " 4       0\n",
       " 5       0\n",
       "        ..\n",
       " 1546    0\n",
       " 1547    0\n",
       " 1548    0\n",
       " 1549    0\n",
       " 1550    1\n",
       " Name: loan_status, Length: 1362, dtype: int64)"
      ]
     },
     "execution_count": 6,
     "metadata": {},
     "output_type": "execute_result"
    }
   ],
   "source": [
    "x, y"
   ]
  },
  {
   "cell_type": "code",
   "execution_count": 7,
   "metadata": {},
   "outputs": [],
   "source": [
    "import matplotlib.pyplot as plt \n",
    "from sklearn.svm import SVC \n",
    "from sklearn.model_selection import train_test_split \n",
    "from sklearn.model_selection import ShuffleSplit\n",
    "from sklearn.model_selection import learning_curve \n",
    "from sklearn import linear_model"
   ]
  },
  {
   "cell_type": "code",
   "execution_count": 8,
   "metadata": {},
   "outputs": [],
   "source": [
    "def plot_learning_curve (estimator, title, X, y, ylim=None, cv=None,\n",
    "                        n_jobs=1, train_sizes=np.linspace(.1, 1.0, 5)):\n",
    "    plt.figure()\n",
    "    plt.title(title)\n",
    "    if ylim is not None:\n",
    "        plt.ylim(*ylim)\n",
    "    plt.xlabel(\"Training examples\")\n",
    "    plt.ylabel(\"Score\")\n",
    "    train_sizes, train_scores, test_scores = learning_curve(\n",
    "        estimator, X, y, cv=cv, n_jobs=n_jobs, train_sizes=train_sizes)\n",
    "    train_scores_mean = np.mean(train_scores, axis=1)\n",
    "    train_scores_std = np.std(train_scores, axis=1)\n",
    "    test_scores_mean = np.mean(test_scores, axis=1)\n",
    "    test_scores_std = np.std(test_scores, axis=1)\n",
    "    plt.grid()\n",
    "    \n",
    "    plt.fill_between(train_sizes, train_scores_mean - train_scores_std,\n",
    "                     train_scores_mean + train_scores_std, alpha=0.1,\n",
    "                     color=\"r\")\n",
    "    plt.fill_between(train_sizes, test_scores_mean - test_scores_std,\n",
    "                     test_scores_mean + test_scores_std, alpha=0.1, color=\"g\")\n",
    "    plt.plot(train_sizes, train_scores_mean, 'o-', color=\"r\",\n",
    "             label=\"Training score\")\n",
    "    plt.plot(train_sizes, test_scores_mean, 'o-', color=\"g\",\n",
    "             label=\"Cross-validation score\")\n",
    "    plt.legend(loc=\"best\")\n",
    "    return plt"
   ]
  },
  {
   "cell_type": "code",
   "execution_count": 9,
   "metadata": {},
   "outputs": [],
   "source": [
    "x = df_feat\n",
    "y = df[\"loan_status\"]\n",
    "title = \"Learning Curves (Logistic Regression)\""
   ]
  },
  {
   "cell_type": "code",
   "execution_count": 10,
   "metadata": {
    "scrolled": true
   },
   "outputs": [
    {
     "data": {
      "image/png": "[encoded data removed]",
      "text/plain": [
       "<Figure size 432x288 with 1 Axes>"
      ]
     },
     "metadata": {
      "needs_background": "light"
     },
     "output_type": "display_data"
    }
   ],
   "source": [
    "cv = ShuffleSplit(n_splits=100, test_size=0.2, random_state=0)\n",
    "estimator = linear_model.LogisticRegression()\n",
    "plot_learning_curve(estimator, title, x, y, ylim=(0.75, 0.90), cv=cv, n_jobs=4)\n",
    "plt.show()"
   ]
  },
  {
   "cell_type": "code",
   "execution_count": 12,
   "metadata": {},
   "outputs": [
    {
     "name": "stdout",
     "output_type": "stream",
     "text": [
      "0.8047210300429185\n"
     ]
    },
    {
     "name": "stderr",
     "output_type": "stream",
     "text": [
      "C:\\ProgramData\\Anaconda3\\lib\\site-packages\\sklearn\\ensemble\\forest.py:245: FutureWarning: The default value of n_estimators will change from 10 in version 0.20 to 100 in 0.22.\n",
      "  \"10 in version 0.20 to 100 in 0.22.\", FutureWarning)\n"
     ]
    }
   ],
   "source": [
    "x_train, x_test, y_train, y_test = train_test_split(x,y, test_size=0.3)\n",
    "\n",
    "from sklearn.ensemble import RandomForestClassifier\n",
    "from sklearn.metrics import accuracy_score\n",
    "rf = RandomForestClassifier()\n",
    "rf.fit(x_train,y_train)\n",
    "rfPredict = rf.predict(x_test)\n",
    "rfPredictProb = rf.predict_proba(x_test)[:,1] \n",
    "rfAccuracy = accuracy_score(y_test,rfPredict)\n",
    "print(rfAccuracy)"
   ]
  },
  {
   "cell_type": "code",
   "execution_count": 13,
   "metadata": {},
   "outputs": [
    {
     "name": "stderr",
     "output_type": "stream",
     "text": [
      "C:\\ProgramData\\Anaconda3\\lib\\site-packages\\sklearn\\model_selection\\_split.py:657: Warning: The least populated class in y has only 1 members, which is too few. The minimum number of members in any class cannot be less than n_splits=10.\n",
      "  % (min_groups, self.n_splits)), Warning)\n"
     ]
    },
    {
     "name": "stdout",
     "output_type": "stream",
     "text": [
      "{'n_neighbors': 38}\n",
      "---------------\n",
      "KNeighborsClassifier(algorithm='auto', leaf_size=30, metric='minkowski',\n",
      "                     metric_params=None, n_jobs=None, n_neighbors=38, p=2,\n",
      "                     weights='uniform')\n"
     ]
    }
   ],
   "source": [
    "from sklearn.neighbors import KNeighborsClassifier \n",
    "from sklearn.model_selection import GridSearchCV\n",
    "clf_knn = KNeighborsClassifier()\n",
    "k_range = list(range(35, 50))\n",
    "param_grid = dict(n_neighbors=k_range)\n",
    "grid = GridSearchCV(clf_knn, param_grid, cv=10, scoring='accuracy')\n",
    "grid.fit(x,y)\n",
    "print(grid.best_params_)\n",
    "print(\"---------------\")\n",
    "print(grid.best_estimator_)"
   ]
  },
  {
   "cell_type": "code",
   "execution_count": 14,
   "metadata": {},
   "outputs": [
    {
     "name": "stdout",
     "output_type": "stream",
     "text": [
      "KNN accuracy is  0.7296137339055794\n"
     ]
    }
   ],
   "source": [
    "clf_knn_final = KNeighborsClassifier(n_neighbors=grid.best_params_['n_neighbors'])\n",
    "clf_knn_final.fit(x_train,y_train)\n",
    "knn_pred = clf_knn_final.predict(x_test)\n",
    "knn_predictproba = clf_knn_final.predict_proba(x_test)[:,1]\n",
    "KNN_Acc = accuracy_score(y_test,knn_pred)\n",
    "print(\"KNN accuracy is \",KNN_Acc)"
   ]
  }
 ],
 "metadata": {
  "kernelspec": {
   "display_name": "Python 3",
   "language": "python",
   "name": "python3"
  },
  "language_info": {
   "codemirror_mode": {
    "name": "ipython",
    "version": 3
   },
   "file_extension": ".py",
   "mimetype": "text/x-python",
   "name": "python",
   "nbconvert_exporter": "python",
   "pygments_lexer": "ipython3",
   "version": "3.7.4"
  }
 },
 "nbformat": 4,
 "nbformat_minor": 2
}
